{
 "cells": [
  {
   "cell_type": "markdown",
   "id": "e0099c95",
   "metadata": {},
   "source": [
    "# SCRAPING IMAGES"
   ]
  },
  {
   "cell_type": "code",
   "execution_count": null,
   "id": "d06b03a1",
   "metadata": {},
   "outputs": [],
   "source": [
    "import numpy as np\n",
    "import pandas as pd\n",
    "from selenium.webdriver import Chrome\n",
    "import oS"
   ]
  },
  {
   "cell_type": "code",
   "execution_count": 2,
   "id": "d8fd3c3c",
   "metadata": {},
   "outputs": [],
   "source": [
    "from functions import scrape_data"
   ]
  },
  {
   "cell_type": "code",
   "execution_count": 3,
   "id": "59a09b90",
   "metadata": {},
   "outputs": [
    {
     "name": "stdout",
     "output_type": "stream",
     "text": [
      "Requirement already satisfied: boto3 in c:\\users\\hp\\anaconda3\\lib\\site-packages (1.26.125)\n",
      "Requirement already satisfied: botocore<1.30.0,>=1.29.125 in c:\\users\\hp\\anaconda3\\lib\\site-packages (from boto3) (1.29.125)\n",
      "Requirement already satisfied: jmespath<2.0.0,>=0.7.1 in c:\\users\\hp\\anaconda3\\lib\\site-packages (from boto3) (0.10.0)\n",
      "Requirement already satisfied: s3transfer<0.7.0,>=0.6.0 in c:\\users\\hp\\anaconda3\\lib\\site-packages (from boto3) (0.6.0)\n",
      "Requirement already satisfied: python-dateutil<3.0.0,>=2.1 in c:\\users\\hp\\anaconda3\\lib\\site-packages (from botocore<1.30.0,>=1.29.125->boto3) (2.8.2)\n",
      "Requirement already satisfied: urllib3<1.27,>=1.25.4 in c:\\users\\hp\\anaconda3\\lib\\site-packages (from botocore<1.30.0,>=1.29.125->boto3) (1.26.14)\n",
      "Requirement already satisfied: six>=1.5 in c:\\users\\hp\\anaconda3\\lib\\site-packages (from python-dateutil<3.0.0,>=2.1->botocore<1.30.0,>=1.29.125->boto3) (1.16.0)\n",
      "Note: you may need to restart the kernel to use updated packages.\n"
     ]
    }
   ],
   "source": [
    "pip install boto3"
   ]
  },
  {
   "cell_type": "code",
   "execution_count": 4,
   "id": "7e3d696e",
   "metadata": {},
   "outputs": [],
   "source": [
    "hashtags = [\"travel\", \"food\", \"animals\", \"selfie\", \"cars\", \"fitness\", \"babies\", \"wedding\", \"nature\", \"architecture\"]\n",
    "\n",
    "# How many hashtags to scrape:\n",
    "num_to_scrape=10"
   ]
  },
  {
   "cell_type": "code",
   "execution_count": 5,
   "id": "99fa0404",
   "metadata": {},
   "outputs": [
    {
     "name": "stdout",
     "output_type": "stream",
     "text": [
      "Folder 'data' already exists.\n",
      "Folder 'metadata' already exists.\n"
     ]
    }
   ],
   "source": [
    "# Make sure our data and metadata folders exist before we start scraping\n",
    "folder_names = [\"data\", \"metadata\"]\n",
    "for folder_name in folder_names:\n",
    "    try:\n",
    "        os.mkdir(folder_name)\n",
    "    except OSError:\n",
    "        print(f\"Folder '{folder_name}' already exists.\")"
   ]
  },
  {
   "cell_type": "code",
   "execution_count": null,
   "id": "f1ba1f1c",
   "metadata": {},
   "outputs": [],
   "source": [
    "scrape_data(hashtags, num_to_scrape,delay=5)"
   ]
  },
  {
   "cell_type": "code",
   "execution_count": null,
   "id": "03f18d59",
   "metadata": {},
   "outputs": [],
   "source": []
  }
 ],
 "metadata": {
  "kernelspec": {
   "display_name": "Python 3 (ipykernel)",
   "language": "python",
   "name": "python3"
  },
  "language_info": {
   "codemirror_mode": {
    "name": "ipython",
    "version": 3
   },
   "file_extension": ".py",
   "mimetype": "text/x-python",
   "name": "python",
   "nbconvert_exporter": "python",
   "pygments_lexer": "ipython3",
   "version": "3.10.9"
  }
 },
 "nbformat": 4,
 "nbformat_minor": 5
}
